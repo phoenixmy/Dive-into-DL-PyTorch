{
 "cells": [
  {
   "cell_type": "markdown",
   "metadata": {},
   "source": [
    "## Part 1 - 标量与矢量运算"
   ]
  },
  {
   "cell_type": "code",
   "execution_count": 2,
   "metadata": {},
   "outputs": [],
   "source": [
    "import torch\n",
    "from time import time\n"
   ]
  },
  {
   "cell_type": "code",
   "execution_count": 6,
   "metadata": {},
   "outputs": [
    {
     "name": "stdout",
     "output_type": "stream",
     "text": [
      "use for loop to calc, cost : 7.745594\n"
     ]
    }
   ],
   "source": [
    "# 测试tensor加法的运算效率\n",
    "\n",
    "size = 1024 ** 2\n",
    "\n",
    "x = torch.ones(size)\n",
    "y = torch.ones(size)\n",
    "z = torch.zeros(size)\n",
    "\n",
    "start = time()\n",
    "for i in range(size):\n",
    "    z[i] = x[i] + y[i]\n",
    "print(\"use for loop to calc, cost : %f\"%(time() - start))"
   ]
  },
  {
   "cell_type": "code",
   "execution_count": 7,
   "metadata": {},
   "outputs": [
    {
     "name": "stdout",
     "output_type": "stream",
     "text": [
      "use vector add to calc, cost : 0.001416\n"
     ]
    }
   ],
   "source": [
    "start = time()\n",
    "z = x + y\n",
    "print(\"use vector add to calc, cost : %f\"%(time() - start))"
   ]
  },
  {
   "cell_type": "code",
   "execution_count": null,
   "metadata": {},
   "outputs": [],
   "source": [
    "# 测试使用ｃｕｄａ加速后的矢量运算效率\n",
    "a = torch.ones(size)\n",
    "b = torch.ones(size)\n",
    "c = torch.zeros(size)\n",
    "start = time()\n",
    "c = a + b\n",
    "print(\"cudause vector add to calc, cost : %f\"%(time() - start))"
   ]
  }
 ],
 "metadata": {
  "kernelspec": {
   "display_name": "Python 3",
   "language": "python",
   "name": "python3"
  },
  "language_info": {
   "codemirror_mode": {
    "name": "ipython",
    "version": 3
   },
   "file_extension": ".py",
   "mimetype": "text/x-python",
   "name": "python",
   "nbconvert_exporter": "python",
   "pygments_lexer": "ipython3",
   "version": "3.7.4"
  }
 },
 "nbformat": 4,
 "nbformat_minor": 2
}
